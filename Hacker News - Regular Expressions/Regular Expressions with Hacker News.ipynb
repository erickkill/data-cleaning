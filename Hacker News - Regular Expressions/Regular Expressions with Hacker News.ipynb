{
 "cells": [
  {
   "cell_type": "markdown",
   "metadata": {},
   "source": [
    "# Overview\n",
    "Hacker News is a site started by the startup incubator Y Combinator, where user-submitted stories (known as \"stories\") are voted and commented upon, similar to reddit. Hacker News is extremely popular in technology and startup circles; stories that make it to the top of Hacker News' listings can get hundreds of thousands of visitors.\n",
    "\n",
    "The dataset we will be working with is based off this CSV of Hacker News stories from September 2015 to September 2016. The columns in the dataset are explained below:\n",
    "\n",
    "- id: The unique identifier from Hacker News for the story\n",
    "- title: The title of the story\n",
    "- url: The URL that the stories links to, if the story has a URL\n",
    "- num_points: The number of points the story acquired, calculated as the total number of upvotes minus the total number of downvotes\n",
    "- num_comments: The number of comments that were made on the story\n",
    "- author: The username of the person who submitted the story\n",
    "- created_at: The date and time at which the story was submitted"
   ]
  },
  {
   "cell_type": "code",
   "execution_count": 1,
   "metadata": {},
   "outputs": [
    {
     "data": {
      "text/html": [
       "<div>\n",
       "<style scoped>\n",
       "    .dataframe tbody tr th:only-of-type {\n",
       "        vertical-align: middle;\n",
       "    }\n",
       "\n",
       "    .dataframe tbody tr th {\n",
       "        vertical-align: top;\n",
       "    }\n",
       "\n",
       "    .dataframe thead th {\n",
       "        text-align: right;\n",
       "    }\n",
       "</style>\n",
       "<table border=\"1\" class=\"dataframe\">\n",
       "  <thead>\n",
       "    <tr style=\"text-align: right;\">\n",
       "      <th></th>\n",
       "      <th>id</th>\n",
       "      <th>title</th>\n",
       "      <th>url</th>\n",
       "      <th>num_points</th>\n",
       "      <th>num_comments</th>\n",
       "      <th>author</th>\n",
       "      <th>created_at</th>\n",
       "    </tr>\n",
       "  </thead>\n",
       "  <tbody>\n",
       "    <tr>\n",
       "      <td>0</td>\n",
       "      <td>12224879</td>\n",
       "      <td>Interactive Dynamic Video</td>\n",
       "      <td>http://www.interactivedynamicvideo.com/</td>\n",
       "      <td>386</td>\n",
       "      <td>52</td>\n",
       "      <td>ne0phyte</td>\n",
       "      <td>8/4/2016 11:52</td>\n",
       "    </tr>\n",
       "    <tr>\n",
       "      <td>1</td>\n",
       "      <td>11964716</td>\n",
       "      <td>Florida DJs May Face Felony for April Fools' W...</td>\n",
       "      <td>http://www.thewire.com/entertainment/2013/04/f...</td>\n",
       "      <td>2</td>\n",
       "      <td>1</td>\n",
       "      <td>vezycash</td>\n",
       "      <td>6/23/2016 22:20</td>\n",
       "    </tr>\n",
       "    <tr>\n",
       "      <td>2</td>\n",
       "      <td>11919867</td>\n",
       "      <td>Technology ventures: From Idea to Enterprise</td>\n",
       "      <td>https://www.amazon.com/Technology-Ventures-Ent...</td>\n",
       "      <td>3</td>\n",
       "      <td>1</td>\n",
       "      <td>hswarna</td>\n",
       "      <td>6/17/2016 0:01</td>\n",
       "    </tr>\n",
       "    <tr>\n",
       "      <td>3</td>\n",
       "      <td>10301696</td>\n",
       "      <td>Note by Note: The Making of Steinway L1037 (2007)</td>\n",
       "      <td>http://www.nytimes.com/2007/11/07/movies/07ste...</td>\n",
       "      <td>8</td>\n",
       "      <td>2</td>\n",
       "      <td>walterbell</td>\n",
       "      <td>9/30/2015 4:12</td>\n",
       "    </tr>\n",
       "    <tr>\n",
       "      <td>4</td>\n",
       "      <td>10482257</td>\n",
       "      <td>Title II kills investment? Comcast and other I...</td>\n",
       "      <td>http://arstechnica.com/business/2015/10/comcas...</td>\n",
       "      <td>53</td>\n",
       "      <td>22</td>\n",
       "      <td>Deinos</td>\n",
       "      <td>10/31/2015 9:48</td>\n",
       "    </tr>\n",
       "  </tbody>\n",
       "</table>\n",
       "</div>"
      ],
      "text/plain": [
       "         id                                              title  \\\n",
       "0  12224879                          Interactive Dynamic Video   \n",
       "1  11964716  Florida DJs May Face Felony for April Fools' W...   \n",
       "2  11919867       Technology ventures: From Idea to Enterprise   \n",
       "3  10301696  Note by Note: The Making of Steinway L1037 (2007)   \n",
       "4  10482257  Title II kills investment? Comcast and other I...   \n",
       "\n",
       "                                                 url  num_points  \\\n",
       "0            http://www.interactivedynamicvideo.com/         386   \n",
       "1  http://www.thewire.com/entertainment/2013/04/f...           2   \n",
       "2  https://www.amazon.com/Technology-Ventures-Ent...           3   \n",
       "3  http://www.nytimes.com/2007/11/07/movies/07ste...           8   \n",
       "4  http://arstechnica.com/business/2015/10/comcas...          53   \n",
       "\n",
       "   num_comments      author       created_at  \n",
       "0            52    ne0phyte   8/4/2016 11:52  \n",
       "1             1    vezycash  6/23/2016 22:20  \n",
       "2             1     hswarna   6/17/2016 0:01  \n",
       "3             2  walterbell   9/30/2015 4:12  \n",
       "4            22      Deinos  10/31/2015 9:48  "
      ]
     },
     "execution_count": 1,
     "metadata": {},
     "output_type": "execute_result"
    }
   ],
   "source": [
    "import pandas as pd\n",
    "hn = pd.read_csv(\"hacker_news.csv\")\n",
    "hn.head()"
   ]
  },
  {
   "cell_type": "markdown",
   "metadata": {},
   "source": [
    "The re module. This module contains a number of different functions and classes for working with regular expressions. One of the most useful functions from the re module is the re.search() function, which takes two required arguments:\n",
    "\n",
    "- The regex pattern\n",
    "- The string we want to search that pattern for"
   ]
  },
  {
   "cell_type": "code",
   "execution_count": 2,
   "metadata": {},
   "outputs": [
    {
     "name": "stdout",
     "output_type": "stream",
     "text": [
      "160\n"
     ]
    }
   ],
   "source": [
    "#import re functions\n",
    "import re\n",
    "\n",
    "#initial a list for titles\n",
    "titles = hn[\"title\"].tolist()\n",
    "\n",
    "#empty count\n",
    "python_mentions = 0\n",
    "\n",
    "#pattern for re function\n",
    "pattern = \"[Pp]ython\"\n",
    "\n",
    "#for loop to count each time a pattern is found in title\n",
    "for title in titles:\n",
    "    if re.search(pattern, title):\n",
    "        python_mentions += 1\n",
    "\n",
    "#output\n",
    "print(python_mentions)"
   ]
  },
  {
   "cell_type": "code",
   "execution_count": 3,
   "metadata": {},
   "outputs": [
    {
     "name": "stdout",
     "output_type": "stream",
     "text": [
      "160\n"
     ]
    }
   ],
   "source": [
    "#get same results as previous code with contains() and sum()\n",
    "pattern = '[Pp]ython'\n",
    "titles = hn['title']\n",
    "\n",
    "# alternate way\n",
    "python_mentions = titles.str.contains(pattern).sum()\n",
    "\n",
    "print(python_mentions)"
   ]
  },
  {
   "cell_type": "markdown",
   "metadata": {},
   "source": [
    "On the previous two screens, I used regular expressions to count how many titles contain Python or python. What if we wanted to view those titles?\n",
    "\n",
    "In that case, we can use the boolean array returned by Series.str.contains() to select just those rows from our series."
   ]
  },
  {
   "cell_type": "code",
   "execution_count": 4,
   "metadata": {},
   "outputs": [
    {
     "data": {
      "text/plain": [
       "190                    Ruby on Google AppEngine Goes Beta\n",
       "484          Related: Pure Ruby Relational Algebra Engine\n",
       "1388    Show HN: HTTPalooza  Ruby's greatest HTTP clie...\n",
       "1949    Rewriting a Ruby C Extension in Rust: How a Na...\n",
       "2022    Show HN: CrashBreak  Reproduce exceptions as f...\n",
       "Name: title, dtype: object"
      ]
     },
     "execution_count": 4,
     "metadata": {},
     "output_type": "execute_result"
    }
   ],
   "source": [
    "titles = hn['title']\n",
    "pattern = \"[Rr]uby\"\n",
    "\n",
    "# Using a boolen to index title names with pattern Ruby/ruby\n",
    "ruby_titles = titles[titles.str.contains(pattern)]\n",
    "\n",
    "ruby_titles.head()"
   ]
  },
  {
   "attachments": {
    "Capture.PNG": {
     "image/png": "[encoded data removed]"
    }
   },
   "cell_type": "markdown",
   "metadata": {},
   "source": [
    "If I wanted to write a pattern that matches the numbers in text from 1000 to 2999 I could write the regular expression below:\n",
    "\n",
    "    [1-2][0-9]{3}\n",
    " \n",
    "The {} brackets represent how many times the previous [] will be appeared.\n",
    "\n",
    "The name for this type of regular expression syntax is called a quantifier. Quantifiers specify how many of the previous character our pattern requires, which can help us when we want to match substrings of specific lengths. \n",
    "\n",
    "![Capture.PNG](attachment:Capture.PNG)"
   ]
  },
  {
   "cell_type": "code",
   "execution_count": 5,
   "metadata": {},
   "outputs": [
    {
     "name": "stdout",
     "output_type": "stream",
     "text": [
      "86\n",
      "119      Show HN: Send an email from your shell to your...\n",
      "313          Disposable emails for safe spam free shopping\n",
      "1361     Ask HN: Doing cold emails? helps us prove this...\n",
      "1750     Protect yourself from spam, bots and phishing ...\n",
      "2421                    Ashley Madison hack treating email\n",
      "                               ...                        \n",
      "18098    House panel looking into Reddit post about Cli...\n",
      "18583    Mailgen  Generates clean, responsive HTML for ...\n",
      "18847    Show HN: Crisp iOS keyboard for email and text...\n",
      "19303    Ask HN: Why big email providers don't sign the...\n",
      "19446    Tell HN: Secure email provider Riseup will run...\n",
      "Name: title, Length: 86, dtype: object\n"
     ]
    }
   ],
   "source": [
    "titles = hn['title']\n",
    "\n",
    "#create a boolean mask that matches items from titles containing email or e-mail.\n",
    "email_bool = titles.str.contains(\"e-?mail\")\n",
    "\n",
    "#count the number of titles that matched the regular expression.\n",
    "email_count = email_bool.sum()\n",
    "print(email_count)\n",
    "\n",
    "#select only the items from titles that matched the regular expression\n",
    "email_titles = titles[email_bool]\n",
    "print(email_titles)"
   ]
  },
  {
   "attachments": {
    "image.png": {
     "image/png": "[encoded data removed]"
    }
   },
   "cell_type": "markdown",
   "metadata": {},
   "source": [
    "To match unknown characters using regular expressions, we use character classes. Character classes allow us to match certain groups of characters. We've actually seen two examples of character classes already:\n",
    "\n",
    "The set notation using brackets to match any of a number of characters.\n",
    "The range notation, which we used to match ranges of digits (like [0-9]).\n",
    "\n",
    "![image.png](attachment:image.png)\n",
    "\n",
    "There are two new things we can observe from this table:\n",
    "\n",
    "- Ranges can be used for letters as well as numbers.\n",
    "- Sets and ranges can be combined."
   ]
  },
  {
   "cell_type": "code",
   "execution_count": 6,
   "metadata": {},
   "outputs": [
    {
     "name": "stdout",
     "output_type": "stream",
     "text": [
      "66     Analysis of 114 propaganda sources from ISIS, ...\n",
      "100    Munich Gunman Got Weapon from the Darknet [Ger...\n",
      "159         File indexing and searching for Plan 9 [pdf]\n",
      "162    Attack on Kunduz Trauma Centre, Afghanistan  I...\n",
      "195               [Beta] Speedtest.net  HTML5 Speed Test\n",
      "Name: title, dtype: object\n"
     ]
    }
   ],
   "source": [
    "#Create a pattern to findd titles that have name like [xxx]\n",
    "pattern = \"\\[\\w+\\]\"\n",
    "\n",
    "tag_titles = titles[titles.str.contains(pattern)]\n",
    "print(tag_titles.head())\n",
    "\n",
    "#Count how many matching titles\n",
    "tag_count = tag_titles.count()"
   ]
  },
  {
   "cell_type": "code",
   "execution_count": 7,
   "metadata": {},
   "outputs": [
    {
     "name": "stdout",
     "output_type": "stream",
     "text": [
      "            0\n",
      "66      [pdf]\n",
      "100  [German]\n",
      "159     [pdf]\n",
      "162     [pdf]\n",
      "195    [Beta]\n"
     ]
    }
   ],
   "source": [
    "#We use the Series.str.extract() method to extract the match within our parentheses:\n",
    "\n",
    "tag_5 = tag_titles.head()\n",
    "\n",
    "pattern = r\"(\\[\\w+\\])\"\n",
    "tag_5_matches = tag_5.str.extract(pattern)\n",
    "print(tag_5_matches)"
   ]
  },
  {
   "cell_type": "code",
   "execution_count": 8,
   "metadata": {},
   "outputs": [
    {
     "name": "stdout",
     "output_type": "stream",
     "text": [
      "          0\n",
      "66      pdf\n",
      "100  German\n",
      "159     pdf\n",
      "162     pdf\n",
      "195    Beta\n"
     ]
    }
   ],
   "source": [
    "#We can move our parentheses inside the brackets to get just the text:\n",
    "\n",
    "pattern = r\"\\[(\\w+)\\]\"\n",
    "tag_5_matches = tag_5.str.extract(pattern)\n",
    "print(tag_5_matches)"
   ]
  },
  {
   "cell_type": "code",
   "execution_count": null,
   "metadata": {},
   "outputs": [],
   "source": [
    "pattern = r\"\\[(\\w+)\\]\"\n",
    "\n",
    "tag_freq = titles.str.extract(pattern).value_counts()"
   ]
  },
  {
   "attachments": {
    "image.png": {
     "image/png": "[encoded data removed]"
    }
   },
   "cell_type": "markdown",
   "metadata": {},
   "source": [
    "We can exclude titles by using negative character classes. Negative character classes are character classes that match every character except a character class. Here are common negative character classes:\n",
    "\n",
    "![image.png](attachment:image.png)"
   ]
  },
  {
   "cell_type": "code",
   "execution_count": 10,
   "metadata": {},
   "outputs": [
    {
     "data": {
      "text/plain": [
       "436     Unikernel Power Comes to Java, Node.js, Go, an...\n",
       "811     Ask HN: Are there any projects or compilers wh...\n",
       "1840                    Adopting RxJava on the Airbnb App\n",
       "1972          Node.js vs. Java: Which Is Faster for APIs?\n",
       "2093                    Java EE and Microservices in 2016\n",
       "Name: title, dtype: object"
      ]
     },
     "execution_count": 10,
     "metadata": {},
     "output_type": "execute_result"
    }
   ],
   "source": [
    "#include Jave/java but exclude Javascript\n",
    "pattern = r\"[Jj]ava[^Ss]\"\n",
    "java_titles = titles[titles.str.contains(pattern)]\n",
    "java_titles.head()"
   ]
  },
  {
   "cell_type": "code",
   "execution_count": 11,
   "metadata": {},
   "outputs": [
    {
     "data": {
      "text/plain": [
       "436     Unikernel Power Comes to Java, Node.js, Go, an...\n",
       "811     Ask HN: Are there any projects or compilers wh...\n",
       "1840                    Adopting RxJava on the Airbnb App\n",
       "1972          Node.js vs. Java: Which Is Faster for APIs?\n",
       "2093                    Java EE and Microservices in 2016\n",
       "Name: title, dtype: object"
      ]
     },
     "execution_count": 11,
     "metadata": {},
     "output_type": "execute_result"
    }
   ],
   "source": [
    "# function for first 10 matches to a pattern\n",
    "\n",
    "def first_5_matches(pattern):\n",
    "    \"\"\"\n",
    "    Return the first 10 story titles that match\n",
    "    the provided regular expression\n",
    "    \"\"\"\n",
    "    all_matches = titles[titles.str.contains(pattern)]\n",
    "    first_5 = all_matches.head(5)\n",
    "    return first_5\n",
    "\n",
    "first_5_matches(\"[Jj]ava[^Ss]\")"
   ]
  },
  {
   "cell_type": "markdown",
   "metadata": {},
   "source": [
    "A word boundary matches the position between a word character and a non-word character, or a word character and the start/end of a string."
   ]
  },
  {
   "cell_type": "code",
   "execution_count": 12,
   "metadata": {},
   "outputs": [
    {
     "data": {
      "text/plain": [
       "436     Unikernel Power Comes to Java, Node.js, Go, an...\n",
       "811     Ask HN: Are there any projects or compilers wh...\n",
       "1023                         Pippo  Web framework in Java\n",
       "1972          Node.js vs. Java: Which Is Faster for APIs?\n",
       "2093                    Java EE and Microservices in 2016\n",
       "Name: title, dtype: object"
      ]
     },
     "execution_count": 12,
     "metadata": {},
     "output_type": "execute_result"
    }
   ],
   "source": [
    "#titles only the items that match the regular expression\n",
    "pattern = r\"\\b[Jj]ava\\b\"\n",
    "java_titles = titles[titles.str.contains(pattern)]\n",
    "java_titles.head()"
   ]
  },
  {
   "attachments": {
    "image.png": {
     "image/png": "[encoded data removed]"
    }
   },
   "cell_type": "markdown",
   "metadata": {},
   "source": [
    "More generally in regular expressions, an anchor matches something that isn't a character, as opposed to character classes which match specific characters.\n",
    "\n",
    "Other than the word boundary anchor, the other two most common anchors are the beginning anchor and the end anchor, which represent the start and the end of the string, respectfully.\n",
    "\n",
    "![image.png](attachment:image.png)"
   ]
  },
  {
   "cell_type": "code",
   "execution_count": 13,
   "metadata": {},
   "outputs": [
    {
     "name": "stdout",
     "output_type": "stream",
     "text": [
      "15\n",
      "417\n"
     ]
    }
   ],
   "source": [
    "#number of times that a tag (e.g. [pdf] or [video]) occurs at the start of a title in titles.\n",
    "pattern_beginning = r\"^\\[\\w+\\]\"     # contain all letters between []\n",
    "beginning_count = titles[titles.str.contains(pattern_beginning)].count()\n",
    "print(beginning_count)\n",
    "\n",
    "#number of times that a tag (e.g. [pdf] or [video]) occurs at the end of a title in titles.\n",
    "pattern_ending = r\"\\[\\w+\\]$\"        # contain all letters between []\n",
    "ending_count = titles[titles.str.contains(pattern_ending)].count()\n",
    "print(ending_count)"
   ]
  },
  {
   "cell_type": "markdown",
   "metadata": {},
   "source": [
    "we can use flags to specify that our regular expression should ignore case.\n",
    "\n",
    "Both re.search() and the pandas regular expression methods accept an optional flags argument. This argument accepts one or more flags, which are special variables in the re module that modify the behavior of the regex interpreter.\n",
    "\n",
    "A list of all available flags is in the documentation, but by far the most common and the most useful is the re.IGNORECASE flag, which is also available using the alias re.I"
   ]
  },
  {
   "cell_type": "code",
   "execution_count": 14,
   "metadata": {},
   "outputs": [
    {
     "data": {
      "text/plain": [
       "143"
      ]
     },
     "execution_count": 14,
     "metadata": {},
     "output_type": "execute_result"
    }
   ],
   "source": [
    "import re\n",
    "\n",
    "email_tests = pd.Series(['email', 'Email', 'e Mail', 'e mail', 'E-mail',\n",
    "              'e-mail', 'eMail', 'E-Mail', 'EMAIL'])\n",
    "\n",
    "email_tests.str.contains(r\"email\",flags=re.I).count()\n",
    "\n",
    "pattern = r\"\\be[\\-\\s]?mail\"    #? means the - or \"space\" is optional\n",
    "email_mentions = titles.str.contains(pattern, flags=re.I).sum()\n",
    "email_mentions"
   ]
  },
  {
   "cell_type": "code",
   "execution_count": 15,
   "metadata": {},
   "outputs": [
    {
     "data": {
      "text/plain": [
       "108"
      ]
     },
     "execution_count": 15,
     "metadata": {},
     "output_type": "execute_result"
    }
   ],
   "source": [
    "#Use that regex pattern and the ignorecase flag to count the number of mentions of SQL in titles.\n",
    "pattern =r\"sql\"\n",
    "sql_counts = titles.str.contains(pattern, flags = re.I).sum()\n",
    "sql_counts"
   ]
  },
  {
   "cell_type": "code",
   "execution_count": 16,
   "metadata": {},
   "outputs": [
    {
     "data": {
      "text/html": [
       "<div>\n",
       "<style scoped>\n",
       "    .dataframe tbody tr th:only-of-type {\n",
       "        vertical-align: middle;\n",
       "    }\n",
       "\n",
       "    .dataframe tbody tr th {\n",
       "        vertical-align: top;\n",
       "    }\n",
       "\n",
       "    .dataframe thead th {\n",
       "        text-align: right;\n",
       "    }\n",
       "</style>\n",
       "<table border=\"1\" class=\"dataframe\">\n",
       "  <thead>\n",
       "    <tr style=\"text-align: right;\">\n",
       "      <th></th>\n",
       "      <th>num_comments</th>\n",
       "    </tr>\n",
       "    <tr>\n",
       "      <th>flavor</th>\n",
       "      <th></th>\n",
       "    </tr>\n",
       "  </thead>\n",
       "  <tbody>\n",
       "    <tr>\n",
       "      <td>cloudsql</td>\n",
       "      <td>5.000000</td>\n",
       "    </tr>\n",
       "    <tr>\n",
       "      <td>memsql</td>\n",
       "      <td>14.000000</td>\n",
       "    </tr>\n",
       "    <tr>\n",
       "      <td>mysql</td>\n",
       "      <td>12.230769</td>\n",
       "    </tr>\n",
       "    <tr>\n",
       "      <td>nosql</td>\n",
       "      <td>14.529412</td>\n",
       "    </tr>\n",
       "    <tr>\n",
       "      <td>postgresql</td>\n",
       "      <td>25.962963</td>\n",
       "    </tr>\n",
       "    <tr>\n",
       "      <td>sparksql</td>\n",
       "      <td>1.000000</td>\n",
       "    </tr>\n",
       "  </tbody>\n",
       "</table>\n",
       "</div>"
      ],
      "text/plain": [
       "            num_comments\n",
       "flavor                  \n",
       "cloudsql        5.000000\n",
       "memsql         14.000000\n",
       "mysql          12.230769\n",
       "nosql          14.529412\n",
       "postgresql     25.962963\n",
       "sparksql        1.000000"
      ]
     },
     "execution_count": 16,
     "metadata": {},
     "output_type": "execute_result"
    }
   ],
   "source": [
    "#reated a new dataframe, hn_sql, including only rows that mention a SQL flavor.\n",
    "hn_sql = hn[hn['title'].str.contains(r\"\\w+SQL\", flags=re.I)].copy()\n",
    "\n",
    "pattern = r\"(\\w+sql)\"\n",
    "\n",
    "hn_sql[\"flavor\"] = hn_sql[\"title\"].str.extract(pattern, re.I)\n",
    "\n",
    "hn_sql[\"flavor\"] = hn_sql[\"flavor\"].str.lower()\n",
    "\n",
    "sql_pivot = hn_sql.pivot_table(index=\"flavor\",values=\"num_comments\", aggfunc='mean')\n",
    "sql_pivot"
   ]
  },
  {
   "cell_type": "code",
   "execution_count": null,
   "metadata": {},
   "outputs": [],
   "source": [
    "pattern = r\"[Pp]ython ([\\d\\.]+)\"\n",
    "\n",
    "py_versions = titles.str.extract(pattern)\n",
    "\n",
    "py_versions_freq = dict(py_versions.value_counts())"
   ]
  },
  {
   "cell_type": "code",
   "execution_count": 20,
   "metadata": {},
   "outputs": [
    {
     "data": {
      "text/plain": [
       "13                 Custom Deleters for C++ Smart Pointers\n",
       "220                        Lisp, C++: Sadness in my heart\n",
       "221                  MemSQL (YC W11) Raises $36M Series C\n",
       "353     VW C.E.O. Personally Apologized to President O...\n",
       "365                      The new C standards are worth it\n",
       "444           Moz raises $10m Series C from Foundry Group\n",
       "508     BDE 3.0 (Bloomberg's core C++ library): Open S...\n",
       "521          Fuchsia: Micro kernel written in C by Google\n",
       "549     How to Become a C.E.O.? The Quickest Path Is a...\n",
       "1282    A lightweight C++ signals and slots implementa...\n",
       "Name: title, dtype: object"
      ]
     },
     "execution_count": 20,
     "metadata": {},
     "output_type": "execute_result"
    }
   ],
   "source": [
    "def first_10_matches(pattern):\n",
    "    \"\"\"\n",
    "    Return the first 10 story titles that match\n",
    "    the provided regular expression\n",
    "    \"\"\"\n",
    "    all_matches = titles[titles.str.contains(pattern)]\n",
    "    first_10 = all_matches.head(10)\n",
    "    return first_10\n",
    "\n",
    "first_10_matches(r\"\\b[Cc]\\b\")"
   ]
  },
  {
   "cell_type": "markdown",
   "metadata": {},
   "source": [
    "Immediately, the results are reasonably relevant. However, I can quickly identify a few match types we want to prevent:\n",
    "\n",
    "- Mentions of C++, a distinct language from C.\n",
    "- Cases where the letter C is followed by a period, like in the substring C.E.O."
   ]
  },
  {
   "cell_type": "code",
   "execution_count": 21,
   "metadata": {},
   "outputs": [
    {
     "data": {
      "text/plain": [
       "365                      The new C standards are worth it\n",
       "444           Moz raises $10m Series C from Foundry Group\n",
       "521          Fuchsia: Micro kernel written in C by Google\n",
       "1307            Show HN: Yupp, yet another C preprocessor\n",
       "1326                     The C standard formalized in Coq\n",
       "1365                          GNU C Library 2.23 released\n",
       "1429    Cysignals: signal handling (SIGINT, SIGSEGV, )...\n",
       "1620                        SDCC  Small Device C Compiler\n",
       "1949    Rewriting a Ruby C Extension in Rust: How a Na...\n",
       "2195    MyHTML  HTML Parser on Pure C with POSIX Threa...\n",
       "Name: title, dtype: object"
      ]
     },
     "execution_count": 21,
     "metadata": {},
     "output_type": "execute_result"
    }
   ],
   "source": [
    "#updated pattern\n",
    "first_10_matches(r\"\\b[Cc]\\b[^+.]\")"
   ]
  },
  {
   "cell_type": "code",
   "execution_count": 22,
   "metadata": {},
   "outputs": [
    {
     "data": {
      "text/plain": [
       "102"
      ]
     },
     "execution_count": 22,
     "metadata": {},
     "output_type": "execute_result"
    }
   ],
   "source": [
    "# match C/c, exclude . or + and exclude where \"Series\" precedes the match\n",
    "\n",
    "pattern = r\"(?<!Series\\s)\\b[Cc]\\b(?![\\+\\.])\"\n",
    "c_mentions = titles.str.contains(pattern).sum()\n",
    "c_mentions"
   ]
  },
  {
   "cell_type": "markdown",
   "metadata": {},
   "source": [
    "A regular expression to match cases of repeated words"
   ]
  },
  {
   "cell_type": "code",
   "execution_count": 29,
   "metadata": {},
   "outputs": [
    {
     "name": "stderr",
     "output_type": "stream",
     "text": [
      "C:\\Users\\jason\\Anaconda3\\lib\\site-packages\\pandas\\core\\strings.py:1843: UserWarning: This pattern has match groups. To actually get the groups, use str.extract.\n",
      "  return func(self, *args, **kwargs)\n"
     ]
    },
    {
     "data": {
      "text/plain": [
       "3102                  Silicon Valley Has a Problem Problem\n",
       "3176                Wire Wire: A West African Cyber Threat\n",
       "3178                         Flexbox Cheatsheet Cheatsheet\n",
       "4797                            The Mindset Mindset (2015)\n",
       "7276     Valentine's Day Special: Bye Bye Tinder, Flirt...\n",
       "10371    Mcdonalds copying cyriak  cows cows cows in th...\n",
       "11575                                    Bang Bang Control\n",
       "11901          Cordless Telephones: Bye Bye Privacy (1991)\n",
       "12697          Solving the the Monty-Hall-Problem in Swift\n",
       "15049    Bye Bye Webrtc2SIP: WebRTC with Asterisk and A...\n",
       "15839          Intellij-Rust Rust Plugin for IntelliJ IDEA\n",
       "Name: title, dtype: object"
      ]
     },
     "execution_count": 29,
     "metadata": {},
     "output_type": "execute_result"
    }
   ],
   "source": [
    "pattern = r\"\\b(\\w+)\\s\\1\\b\"\n",
    "repeated_words = titles[titles.str.contains(pattern)]\n",
    "repeated_words"
   ]
  },
  {
   "cell_type": "markdown",
   "metadata": {},
   "source": [
    "Replace all mentions of email in titles with \"email\""
   ]
  },
  {
   "cell_type": "code",
   "execution_count": 30,
   "metadata": {},
   "outputs": [],
   "source": [
    "email_variations = pd.Series(['email', 'Email', 'e Mail',\n",
    "                        'e mail', 'E-mail', 'e-mail',\n",
    "                        'eMail', 'E-Mail', 'EMAIL'])\n",
    "\n",
    "pattern = r\"e[\\-\\s]?mail\"\n",
    "\n",
    "#test it worked\n",
    "email_uniform = email_variations.str.replace(pattern, \"email\", flags = re.I)\n",
    "\n",
    "#use it on dataset\n",
    "titles_clean = titles.str.replace(pattern, \"email\", flags=re.I)"
   ]
  },
  {
   "cell_type": "code",
   "execution_count": 50,
   "metadata": {},
   "outputs": [
    {
     "data": {
      "text/html": [
       "<div>\n",
       "<style scoped>\n",
       "    .dataframe tbody tr th:only-of-type {\n",
       "        vertical-align: middle;\n",
       "    }\n",
       "\n",
       "    .dataframe tbody tr th {\n",
       "        vertical-align: top;\n",
       "    }\n",
       "\n",
       "    .dataframe thead th {\n",
       "        text-align: right;\n",
       "    }\n",
       "</style>\n",
       "<table border=\"1\" class=\"dataframe\">\n",
       "  <thead>\n",
       "    <tr style=\"text-align: right;\">\n",
       "      <th></th>\n",
       "      <th>0</th>\n",
       "    </tr>\n",
       "  </thead>\n",
       "  <tbody>\n",
       "    <tr>\n",
       "      <td>0</td>\n",
       "      <td>www.interactivedynamicvideo.com</td>\n",
       "    </tr>\n",
       "    <tr>\n",
       "      <td>1</td>\n",
       "      <td>www.thewire.com</td>\n",
       "    </tr>\n",
       "    <tr>\n",
       "      <td>2</td>\n",
       "      <td>www.amazon.com</td>\n",
       "    </tr>\n",
       "    <tr>\n",
       "      <td>3</td>\n",
       "      <td>www.nytimes.com</td>\n",
       "    </tr>\n",
       "    <tr>\n",
       "      <td>4</td>\n",
       "      <td>arstechnica.com</td>\n",
       "    </tr>\n",
       "    <tr>\n",
       "      <td>...</td>\n",
       "      <td>...</td>\n",
       "    </tr>\n",
       "    <tr>\n",
       "      <td>20094</td>\n",
       "      <td>puri.sm</td>\n",
       "    </tr>\n",
       "    <tr>\n",
       "      <td>20095</td>\n",
       "      <td>medium.com</td>\n",
       "    </tr>\n",
       "    <tr>\n",
       "      <td>20096</td>\n",
       "      <td>blog.darknedgy.net</td>\n",
       "    </tr>\n",
       "    <tr>\n",
       "      <td>20097</td>\n",
       "      <td>medium.com</td>\n",
       "    </tr>\n",
       "    <tr>\n",
       "      <td>20098</td>\n",
       "      <td>github.com</td>\n",
       "    </tr>\n",
       "  </tbody>\n",
       "</table>\n",
       "<p>20099 rows × 1 columns</p>\n",
       "</div>"
      ],
      "text/plain": [
       "                                     0\n",
       "0      www.interactivedynamicvideo.com\n",
       "1                      www.thewire.com\n",
       "2                       www.amazon.com\n",
       "3                      www.nytimes.com\n",
       "4                      arstechnica.com\n",
       "...                                ...\n",
       "20094                          puri.sm\n",
       "20095                       medium.com\n",
       "20096               blog.darknedgy.net\n",
       "20097                       medium.com\n",
       "20098                       github.com\n",
       "\n",
       "[20099 rows x 1 columns]"
      ]
     },
     "execution_count": 50,
     "metadata": {},
     "output_type": "execute_result"
    }
   ],
   "source": [
    "test_urls = pd.Series([\n",
    " 'https://www.amazon.com/Technology-Ventures-Enterprise-Thomas-Byers/dp/0073523429',\n",
    " 'http://www.interactivedynamicvideo.com/',\n",
    " 'http://www.nytimes.com/2007/11/07/movies/07stein.html?_r=0',\n",
    " 'http://evonomics.com/advertising-cannot-maintain-internet-heres-solution/',\n",
    " 'HTTPS://github.com/keppel/pinn',\n",
    " 'Http://phys.org/news/2015-09-scale-solar-youve.html',\n",
    " 'https://iot.seeed.cc',\n",
    " 'http://www.bfilipek.com/2016/04/custom-deleters-for-c-smart-pointers.html',\n",
    " 'http://beta.crowdfireapp.com/?beta=agnipath',\n",
    " 'https://www.valid.ly?param'\n",
    "])\n",
    "\n",
    "pattern = r\"https?://([\\w\\.]+)\"\n",
    "\n",
    "#test it on sample series\n",
    "test_urls_clean = test_urls.str.extract(pattern, flags = re.I)\n",
    "\n",
    "#use on dataset\n",
    "domain_series = pd.Series(hn['url'])\n",
    "domain_series\n",
    "                        \n",
    "domains = hn['url'].str.extract(pattern, flags = re.I)\n",
    "domains"
   ]
  },
  {
   "cell_type": "markdown",
   "metadata": {},
   "source": [
    "Extract each of the three component parts of the URLs:\n",
    "\n",
    "1. Protocol\n",
    "2. Domain\n",
    "3. Page path"
   ]
  },
  {
   "cell_type": "code",
   "execution_count": 52,
   "metadata": {},
   "outputs": [
    {
     "data": {
      "text/html": [
       "<div>\n",
       "<style scoped>\n",
       "    .dataframe tbody tr th:only-of-type {\n",
       "        vertical-align: middle;\n",
       "    }\n",
       "\n",
       "    .dataframe tbody tr th {\n",
       "        vertical-align: top;\n",
       "    }\n",
       "\n",
       "    .dataframe thead th {\n",
       "        text-align: right;\n",
       "    }\n",
       "</style>\n",
       "<table border=\"1\" class=\"dataframe\">\n",
       "  <thead>\n",
       "    <tr style=\"text-align: right;\">\n",
       "      <th></th>\n",
       "      <th>0</th>\n",
       "      <th>1</th>\n",
       "      <th>2</th>\n",
       "    </tr>\n",
       "  </thead>\n",
       "  <tbody>\n",
       "    <tr>\n",
       "      <td>0</td>\n",
       "      <td>http</td>\n",
       "      <td>www.interactivedynamicvideo.com</td>\n",
       "      <td></td>\n",
       "    </tr>\n",
       "    <tr>\n",
       "      <td>1</td>\n",
       "      <td>http</td>\n",
       "      <td>www.thewire.com</td>\n",
       "      <td>entertainment/2013/04/florida-djs-april-fools-...</td>\n",
       "    </tr>\n",
       "    <tr>\n",
       "      <td>2</td>\n",
       "      <td>https</td>\n",
       "      <td>www.amazon.com</td>\n",
       "      <td>Technology-Ventures-Enterprise-Thomas-Byers/dp...</td>\n",
       "    </tr>\n",
       "    <tr>\n",
       "      <td>3</td>\n",
       "      <td>http</td>\n",
       "      <td>www.nytimes.com</td>\n",
       "      <td>2007/11/07/movies/07stein.html?_r=0</td>\n",
       "    </tr>\n",
       "    <tr>\n",
       "      <td>4</td>\n",
       "      <td>http</td>\n",
       "      <td>arstechnica.com</td>\n",
       "      <td>business/2015/10/comcast-and-other-isps-boost-...</td>\n",
       "    </tr>\n",
       "    <tr>\n",
       "      <td>...</td>\n",
       "      <td>...</td>\n",
       "      <td>...</td>\n",
       "      <td>...</td>\n",
       "    </tr>\n",
       "    <tr>\n",
       "      <td>20094</td>\n",
       "      <td>https</td>\n",
       "      <td>puri.sm</td>\n",
       "      <td>philosophy/how-purism-avoids-intels-active-man...</td>\n",
       "    </tr>\n",
       "    <tr>\n",
       "      <td>20095</td>\n",
       "      <td>https</td>\n",
       "      <td>medium.com</td>\n",
       "      <td>@zreitano/the-yc-application-broken-down-and-t...</td>\n",
       "    </tr>\n",
       "    <tr>\n",
       "      <td>20096</td>\n",
       "      <td>http</td>\n",
       "      <td>blog.darknedgy.net</td>\n",
       "      <td>technology/2016/01/01/0/</td>\n",
       "    </tr>\n",
       "    <tr>\n",
       "      <td>20097</td>\n",
       "      <td>https</td>\n",
       "      <td>medium.com</td>\n",
       "      <td>@benjiwheeler/how-product-hunt-really-works-d8...</td>\n",
       "    </tr>\n",
       "    <tr>\n",
       "      <td>20098</td>\n",
       "      <td>https</td>\n",
       "      <td>github.com</td>\n",
       "      <td>jmcarp/robobrowser</td>\n",
       "    </tr>\n",
       "  </tbody>\n",
       "</table>\n",
       "<p>20099 rows × 3 columns</p>\n",
       "</div>"
      ],
      "text/plain": [
       "           0                                1  \\\n",
       "0       http  www.interactivedynamicvideo.com   \n",
       "1       http                  www.thewire.com   \n",
       "2      https                   www.amazon.com   \n",
       "3       http                  www.nytimes.com   \n",
       "4       http                  arstechnica.com   \n",
       "...      ...                              ...   \n",
       "20094  https                          puri.sm   \n",
       "20095  https                       medium.com   \n",
       "20096   http               blog.darknedgy.net   \n",
       "20097  https                       medium.com   \n",
       "20098  https                       github.com   \n",
       "\n",
       "                                                       2  \n",
       "0                                                         \n",
       "1      entertainment/2013/04/florida-djs-april-fools-...  \n",
       "2      Technology-Ventures-Enterprise-Thomas-Byers/dp...  \n",
       "3                    2007/11/07/movies/07stein.html?_r=0  \n",
       "4      business/2015/10/comcast-and-other-isps-boost-...  \n",
       "...                                                  ...  \n",
       "20094  philosophy/how-purism-avoids-intels-active-man...  \n",
       "20095  @zreitano/the-yc-application-broken-down-and-t...  \n",
       "20096                           technology/2016/01/01/0/  \n",
       "20097  @benjiwheeler/how-product-hunt-really-works-d8...  \n",
       "20098                                 jmcarp/robobrowser  \n",
       "\n",
       "[20099 rows x 3 columns]"
      ]
     },
     "execution_count": 52,
     "metadata": {},
     "output_type": "execute_result"
    }
   ],
   "source": [
    "pattern = r\"(.+)://([\\w\\.]+)/?(.*)\"\n",
    "\n",
    "url_parts = hn['url'].str.extract(pattern)\n",
    "url_parts"
   ]
  },
  {
   "cell_type": "markdown",
   "metadata": {},
   "source": [
    "Name these columns"
   ]
  },
  {
   "cell_type": "code",
   "execution_count": 54,
   "metadata": {},
   "outputs": [
    {
     "data": {
      "text/html": [
       "<div>\n",
       "<style scoped>\n",
       "    .dataframe tbody tr th:only-of-type {\n",
       "        vertical-align: middle;\n",
       "    }\n",
       "\n",
       "    .dataframe tbody tr th {\n",
       "        vertical-align: top;\n",
       "    }\n",
       "\n",
       "    .dataframe thead th {\n",
       "        text-align: right;\n",
       "    }\n",
       "</style>\n",
       "<table border=\"1\" class=\"dataframe\">\n",
       "  <thead>\n",
       "    <tr style=\"text-align: right;\">\n",
       "      <th></th>\n",
       "      <th>protocol</th>\n",
       "      <th>domain</th>\n",
       "      <th>path</th>\n",
       "    </tr>\n",
       "  </thead>\n",
       "  <tbody>\n",
       "    <tr>\n",
       "      <td>0</td>\n",
       "      <td>http</td>\n",
       "      <td>www.interactivedynamicvideo.com</td>\n",
       "      <td></td>\n",
       "    </tr>\n",
       "    <tr>\n",
       "      <td>1</td>\n",
       "      <td>http</td>\n",
       "      <td>www.thewire.com</td>\n",
       "      <td>entertainment/2013/04/florida-djs-april-fools-...</td>\n",
       "    </tr>\n",
       "    <tr>\n",
       "      <td>2</td>\n",
       "      <td>https</td>\n",
       "      <td>www.amazon.com</td>\n",
       "      <td>Technology-Ventures-Enterprise-Thomas-Byers/dp...</td>\n",
       "    </tr>\n",
       "    <tr>\n",
       "      <td>3</td>\n",
       "      <td>http</td>\n",
       "      <td>www.nytimes.com</td>\n",
       "      <td>2007/11/07/movies/07stein.html?_r=0</td>\n",
       "    </tr>\n",
       "    <tr>\n",
       "      <td>4</td>\n",
       "      <td>http</td>\n",
       "      <td>arstechnica.com</td>\n",
       "      <td>business/2015/10/comcast-and-other-isps-boost-...</td>\n",
       "    </tr>\n",
       "    <tr>\n",
       "      <td>...</td>\n",
       "      <td>...</td>\n",
       "      <td>...</td>\n",
       "      <td>...</td>\n",
       "    </tr>\n",
       "    <tr>\n",
       "      <td>20094</td>\n",
       "      <td>https</td>\n",
       "      <td>puri.sm</td>\n",
       "      <td>philosophy/how-purism-avoids-intels-active-man...</td>\n",
       "    </tr>\n",
       "    <tr>\n",
       "      <td>20095</td>\n",
       "      <td>https</td>\n",
       "      <td>medium.com</td>\n",
       "      <td>@zreitano/the-yc-application-broken-down-and-t...</td>\n",
       "    </tr>\n",
       "    <tr>\n",
       "      <td>20096</td>\n",
       "      <td>http</td>\n",
       "      <td>blog.darknedgy.net</td>\n",
       "      <td>technology/2016/01/01/0/</td>\n",
       "    </tr>\n",
       "    <tr>\n",
       "      <td>20097</td>\n",
       "      <td>https</td>\n",
       "      <td>medium.com</td>\n",
       "      <td>@benjiwheeler/how-product-hunt-really-works-d8...</td>\n",
       "    </tr>\n",
       "    <tr>\n",
       "      <td>20098</td>\n",
       "      <td>https</td>\n",
       "      <td>github.com</td>\n",
       "      <td>jmcarp/robobrowser</td>\n",
       "    </tr>\n",
       "  </tbody>\n",
       "</table>\n",
       "<p>20099 rows × 3 columns</p>\n",
       "</div>"
      ],
      "text/plain": [
       "      protocol                           domain  \\\n",
       "0         http  www.interactivedynamicvideo.com   \n",
       "1         http                  www.thewire.com   \n",
       "2        https                   www.amazon.com   \n",
       "3         http                  www.nytimes.com   \n",
       "4         http                  arstechnica.com   \n",
       "...        ...                              ...   \n",
       "20094    https                          puri.sm   \n",
       "20095    https                       medium.com   \n",
       "20096     http               blog.darknedgy.net   \n",
       "20097    https                       medium.com   \n",
       "20098    https                       github.com   \n",
       "\n",
       "                                                    path  \n",
       "0                                                         \n",
       "1      entertainment/2013/04/florida-djs-april-fools-...  \n",
       "2      Technology-Ventures-Enterprise-Thomas-Byers/dp...  \n",
       "3                    2007/11/07/movies/07stein.html?_r=0  \n",
       "4      business/2015/10/comcast-and-other-isps-boost-...  \n",
       "...                                                  ...  \n",
       "20094  philosophy/how-purism-avoids-intels-active-man...  \n",
       "20095  @zreitano/the-yc-application-broken-down-and-t...  \n",
       "20096                           technology/2016/01/01/0/  \n",
       "20097  @benjiwheeler/how-product-hunt-really-works-d8...  \n",
       "20098                                 jmcarp/robobrowser  \n",
       "\n",
       "[20099 rows x 3 columns]"
      ]
     },
     "execution_count": 54,
     "metadata": {},
     "output_type": "execute_result"
    }
   ],
   "source": [
    "pattern = r\"(?P<protocol>.+)://(?P<domain>[\\w\\.]+)/?(?P<path>.*)\"\n",
    "url_parts = hn['url'].str.extract(pattern)\n",
    "url_parts"
   ]
  },
  {
   "cell_type": "code",
   "execution_count": null,
   "metadata": {},
   "outputs": [],
   "source": []
  }
 ],
 "metadata": {
  "kernelspec": {
   "display_name": "Python 3",
   "language": "python",
   "name": "python3"
  },
  "language_info": {
   "codemirror_mode": {
    "name": "ipython",
    "version": 3
   },
   "file_extension": ".py",
   "mimetype": "text/x-python",
   "name": "python",
   "nbconvert_exporter": "python",
   "pygments_lexer": "ipython3",
   "version": "3.7.1"
  },
  "toc": {
   "base_numbering": 1,
   "nav_menu": {},
   "number_sections": true,
   "sideBar": true,
   "skip_h1_title": false,
   "title_cell": "Table of Contents",
   "title_sidebar": "Contents",
   "toc_cell": false,
   "toc_position": {},
   "toc_section_display": true,
   "toc_window_display": false
  },
  "varInspector": {
   "cols": {
    "lenName": 16,
    "lenType": 16,
    "lenVar": 40
   },
   "kernels_config": {
    "python": {
     "delete_cmd_postfix": "",
     "delete_cmd_prefix": "del ",
     "library": "var_list.py",
     "varRefreshCmd": "print(var_dic_list())"
    },
    "r": {
     "delete_cmd_postfix": ") ",
     "delete_cmd_prefix": "rm(",
     "library": "var_list.r",
     "varRefreshCmd": "cat(var_dic_list()) "
    }
   },
   "types_to_exclude": [
    "module",
    "function",
    "builtin_function_or_method",
    "instance",
    "_Feature"
   ],
   "window_display": false
  }
 },
 "nbformat": 4,
 "nbformat_minor": 2
}
